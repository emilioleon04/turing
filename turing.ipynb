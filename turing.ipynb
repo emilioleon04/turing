{
 "cells": [
  {
   "cell_type": "code",
   "execution_count": 15,
   "id": "e3672396-4107-44ad-b55e-7c31d2aeca36",
   "metadata": {},
   "outputs": [
    {
     "name": "stdin",
     "output_type": "stream",
     "text": [
      "Hola dame el numero de reglas:  5\n"
     ]
    },
    {
     "name": "stdout",
     "output_type": "stream",
     "text": [
      "Para el estado  0\n",
      "leyendo...  0\n"
     ]
    },
    {
     "name": "stdin",
     "output_type": "stream",
     "text": [
      "Dame el nuevo estado:  5\n",
      "Dame lo que escribira en la cinta:  5\n",
      "Dame el movimiento:  5\n"
     ]
    },
    {
     "name": "stdout",
     "output_type": "stream",
     "text": [
      "leyendo...  1\n"
     ]
    },
    {
     "name": "stdin",
     "output_type": "stream",
     "text": [
      "Dame el nuevo estado:  5\n",
      "Dame lo que escribira en la cinta:  5\n",
      "Dame el movimiento:  5\n"
     ]
    },
    {
     "name": "stdout",
     "output_type": "stream",
     "text": [
      "Para el estado  1\n",
      "leyendo...  0\n"
     ]
    },
    {
     "name": "stdin",
     "output_type": "stream",
     "text": [
      "Dame el nuevo estado:  5\n",
      "Dame lo que escribira en la cinta:  5\n",
      "Dame el movimiento:  5\n"
     ]
    },
    {
     "name": "stdout",
     "output_type": "stream",
     "text": [
      "leyendo...  1\n"
     ]
    },
    {
     "name": "stdin",
     "output_type": "stream",
     "text": [
      "Dame el nuevo estado:  5\n",
      "Dame lo que escribira en la cinta:  5\n",
      "Dame el movimiento:  5\n"
     ]
    },
    {
     "name": "stdout",
     "output_type": "stream",
     "text": [
      "{0: [[5, 5, '5'], [5, 5, '5']], 1: [[5, 5, '5'], [5, 5, '5']]}\n"
     ]
    },
    {
     "name": "stdin",
     "output_type": "stream",
     "text": [
      "Dame el numero de casos prueba:  5\n"
     ]
    },
    {
     "name": "stdout",
     "output_type": "stream",
     "text": [
      "Para la prueba  0\n"
     ]
    },
    {
     "name": "stdin",
     "output_type": "stream",
     "text": [
      "Dame el numero de unos de entrada:  5\n",
      "Dame el numero de unos de salida:  \n"
     ]
    },
    {
     "ename": "ValueError",
     "evalue": "invalid literal for int() with base 10: ''",
     "output_type": "error",
     "traceback": [
      "\u001b[1;31m---------------------------------------------------------------------------\u001b[0m",
      "\u001b[1;31mValueError\u001b[0m                                Traceback (most recent call last)",
      "Cell \u001b[1;32mIn[15], line 81\u001b[0m\n\u001b[0;32m     78\u001b[0m \t\t\t\u001b[38;5;28mprint\u001b[39m(\u001b[38;5;124m\"\u001b[39m\u001b[38;5;124mWA\u001b[39m\u001b[38;5;124m\"\u001b[39m)\n\u001b[0;32m     79\u001b[0m \t\tconfigCinta(\u001b[38;5;28mint\u001b[39m(\u001b[38;5;241m1000\u001b[39m), cinta, \u001b[38;5;241m0\u001b[39m)\n\u001b[1;32m---> 81\u001b[0m lee()\n",
      "Cell \u001b[1;32mIn[15], line 58\u001b[0m, in \u001b[0;36mlee\u001b[1;34m()\u001b[0m\n\u001b[0;32m     56\u001b[0m \u001b[38;5;28mprint\u001b[39m(\u001b[38;5;124m\"\u001b[39m\u001b[38;5;124mPara la prueba \u001b[39m\u001b[38;5;124m\"\u001b[39m, x)\n\u001b[0;32m     57\u001b[0m x \u001b[38;5;241m=\u001b[39m \u001b[38;5;28mint\u001b[39m(\u001b[38;5;28minput\u001b[39m(\u001b[38;5;124m\"\u001b[39m\u001b[38;5;124mDame el numero de unos de entrada: \u001b[39m\u001b[38;5;124m\"\u001b[39m))\n\u001b[1;32m---> 58\u001b[0m y \u001b[38;5;241m=\u001b[39m \u001b[38;5;28mint\u001b[39m(\u001b[38;5;28minput\u001b[39m(\u001b[38;5;124m\"\u001b[39m\u001b[38;5;124mDame el numero de unos de salida: \u001b[39m\u001b[38;5;124m\"\u001b[39m))\n\u001b[0;32m     59\u001b[0m listPruebas\u001b[38;5;241m.\u001b[39mappend((x,y))\n\u001b[0;32m     60\u001b[0m \u001b[38;5;28mprint\u001b[39m(listPruebas)\n",
      "\u001b[1;31mValueError\u001b[0m: invalid literal for int() with base 10: ''"
     ]
    }
   ],
   "source": [
    "class maquinaTuring:\n",
    "\tglobal cinta\n",
    "\tglobal transiciones\n",
    "\tglobal estado_act \n",
    "\tglobal posicion\n",
    "\n",
    "\tdef computa(self):\n",
    "\t\twhile self.estado_act in self.transiciones.keys():\n",
    "\t\t\tinstrucciones = self.transiciones[self.estado_act]\n",
    "\t\t\tinstrucciones = instrucciones[self.cinta[self.posicion]]\n",
    "\t\t\tself.ejecuta(instrucciones)\n",
    "\t\t\tif self.posicion >= len(self.cinta) or self.posicion < 0:\n",
    "\t\t\t\tprint (\"MLE\")\n",
    "\t\t\t\tbreak\n",
    "\t\t\t\n",
    "\n",
    "\tdef ejecuta(self, ins):\n",
    "\t\tself.estado_act = ins[0]\n",
    "\t\tself.cinta[self.posicion] = ins[1]\n",
    "\t\tself.movimiento(ins[2])\n",
    "\n",
    "\n",
    "\tdef movimiento(self, ins):\n",
    "\t\tif ins == \"R\" :\n",
    "\t\t\tself.posicion += 1\n",
    "\t\tif ins == \"L\":\n",
    "\t\t\tself.posicion -= 1\n",
    "\n",
    "\n",
    "def configCinta(n, cinta, c):\n",
    "\tfor i in range (0, n):\n",
    "\t\tcinta[i] = c\n",
    "\n",
    "\n",
    "def lee():\n",
    "\tcontador = 0\n",
    "\tdiccionario = {}\n",
    "\tcinta = []\n",
    "\treglas = int(input(\"Hola dame el numero de reglas: \"))\n",
    "\treglas = int(reglas/2)\n",
    "\tfor i in range (0, reglas):\n",
    "\t\tlista = []\n",
    "\t\tprint (\"Para el estado \", i)\n",
    "\t\tfor j in range (0,2):\n",
    "\t\t\tprint (\"leyendo... \", j)\n",
    "\t\t\tlista2 = []\n",
    "\t\t\tlista2.append(int(input(\"Dame el nuevo estado: \")))\n",
    "\t\t\tlista2.append(int(input(\"Dame lo que escribira en la cinta: \")))\n",
    "\t\t\tlista2.append(str(input(\"Dame el movimiento: \")))\n",
    "\t\t\tlista.append(lista2)\n",
    "\t\tdiccionario[i] = lista\n",
    "\tprint (diccionario)\n",
    "\tpruebas = int(input(\"Dame el numero de casos prueba: \"))\n",
    "\tlistPruebas = []\n",
    "\tfor x in range (0, pruebas):\n",
    "\t\tprint(\"Para la prueba \", x)\n",
    "\t\tx = int(input(\"Dame el numero de unos de entrada: \"))\n",
    "\t\ty = int(input(\"Dame el numero de unos de salida: \"))\n",
    "\t\tlistPruebas.append((x,y))\n",
    "\t\tprint(listPruebas)\n",
    "\tfor x in range (1000):\n",
    "\t\tcinta.append(0)\n",
    "\tfor p in listPruebas:\n",
    "\t\tcontador += 1\n",
    "\t\tconfigCinta(int(p[0]), cinta, 1)\n",
    "\t\tmaquina = maquinaTuring()\n",
    "\t\tmaquina.cinta = cinta\n",
    "\t\tmaquina.transiciones = diccionario\n",
    "\t\tmaquina.estado_act = 0\n",
    "\t\tmaquina.posicion = 0\n",
    "\t\tmaquina.computa()\n",
    "\t\tif contador > 10000:\n",
    "\t\t\tprint(\"TLE\")\n",
    "\t\tprint(\"en la prueba:\")\n",
    "\t\tif maquina.cinta.count(1) == p[1]:\n",
    "\t\t\tprint(\"AC\")\n",
    "\t\telse:\n",
    "\t\t\tprint(\"WA\")\n",
    "\t\tconfigCinta(int(1000), cinta, 0)\n",
    "\n",
    "lee()"
   ]
  }
 ],
 "metadata": {
  "kernelspec": {
   "display_name": "Python 3 (ipykernel)",
   "language": "python",
   "name": "python3"
  },
  "language_info": {
   "codemirror_mode": {
    "name": "ipython",
    "version": 3
   },
   "file_extension": ".py",
   "mimetype": "text/x-python",
   "name": "python",
   "nbconvert_exporter": "python",
   "pygments_lexer": "ipython3",
   "version": "3.11.7"
  }
 },
 "nbformat": 4,
 "nbformat_minor": 5
}
