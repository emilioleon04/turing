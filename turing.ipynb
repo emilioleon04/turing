{
 "cells": [
  {
   "cell_type": "code",
   "execution_count": 15,
   "id": "e3672396-4107-44ad-b55e-7c31d2aeca36",
   "metadata": {},
   "outputs": [
    {
     "name": "stdin",
     "output_type": "stream",
     "text": [
      "Hola dame el numero de reglas:  5\n"
     ]
    },
    {
     "name": "stdout",
     "output_type": "stream",
     "text": [
      "Para el estado  0\n",
      "leyendo...  0\n"
     ]
    },
    {
     "name": "stdin",
     "output_type": "stream",
     "text": [
      "Dame el nuevo estado:  5\n",
      "Dame lo que escribira en la cinta:  5\n",
      "Dame el movimiento:  5\n"
     ]
    },
    {
     "name": "stdout",
     "output_type": "stream",
     "text": [
      "leyendo...  1\n"
     ]
    },
    {
     "name": "stdin",
     "output_type": "stream",
     "text": [
      "Dame el nuevo estado:  5\n",
      "Dame lo que escribira en la cinta:  5\n",
      "Dame el movimiento:  5\n"
     ]
    },
    {
     "name": "stdout",
     "output_type": "stream",
     "text": [
      "Para el estado  1\n",
      "leyendo...  0\n"
     ]
    },
    {
     "name": "stdin",
     "output_type": "stream",
     "text": [
      "Dame el nuevo estado:  5\n",
      "Dame lo que escribira en la cinta:  5\n",
      "Dame el movimiento:  5\n"
     ]
    },
    {
     "name": "stdout",
     "output_type": "stream",
     "text": [
      "leyendo...  1\n"
     ]
    },
    {
     "name": "stdin",
     "output_type": "stream",
     "text": [
      "Dame el nuevo estado:  5\n",
      "Dame lo que escribira en la cinta:  5\n",
      "Dame el movimiento:  5\n"
     ]
    },
    {
     "name": "stdout",
     "output_type": "stream",
     "text": [
      "{0: [[5, 5, '5'], [5, 5, '5']], 1: [[5, 5, '5'], [5, 5, '5']]}\n"
     ]
    },
    {
     "name": "stdin",
     "output_type": "stream",
     "text": [
      "Dame el numero de casos prueba:  5\n"
     ]
    },
    {
     "name": "stdout",
     "output_type": "stream",
     "text": [
      "Para la prueba  0\n"
     ]
    },
    {
     "name": "stdin",
     "output_type": "stream",
     "text": [
      "Dame el numero de unos de entrada:  5\n",
      "Dame el numero de unos de salida:  \n"
     ]
    },
    {
     "ename": "ValueError",
     "evalue": "invalid literal for int() with base 10: ''",
     "output_type": "error",
     "traceback": [
      "\u001b[1;31m---------------------------------------------------------------------------\u001b[0m",
      "\u001b[1;31mValueError\u001b[0m                                Traceback (most recent call last)",
      "Cell \u001b[1;32mIn[15], line 81\u001b[0m\n\u001b[0;32m     78\u001b[0m \t\t\t\u001b[38;5;28mprint\u001b[39m(\u001b[38;5;124m\"\u001b[39m\u001b[38;5;124mWA\u001b[39m\u001b[38;5;124m\"\u001b[39m)\n\u001b[0;32m     79\u001b[0m \t\tconfigCinta(\u001b[38;5;28mint\u001b[39m(\u001b[38;5;241m1000\u001b[39m), cinta, \u001b[38;5;241m0\u001b[39m)\n\u001b[1;32m---> 81\u001b[0m lee()\n",
      "Cell \u001b[1;32mIn[15], line 58\u001b[0m, in \u001b[0;36mlee\u001b[1;34m()\u001b[0m\n\u001b[0;32m     56\u001b[0m \u001b[38;5;28mprint\u001b[39m(\u001b[38;5;124m\"\u001b[39m\u001b[38;5;124mPara la prueba \u001b[39m\u001b[38;5;124m\"\u001b[39m, x)\n\u001b[0;32m     57\u001b[0m x \u001b[38;5;241m=\u001b[39m \u001b[38;5;28mint\u001b[39m(\u001b[38;5;28minput\u001b[39m(\u001b[38;5;124m\"\u001b[39m\u001b[38;5;124mDame el numero de unos de entrada: \u001b[39m\u001b[38;5;124m\"\u001b[39m))\n\u001b[1;32m---> 58\u001b[0m y \u001b[38;5;241m=\u001b[39m \u001b[38;5;28mint\u001b[39m(\u001b[38;5;28minput\u001b[39m(\u001b[38;5;124m\"\u001b[39m\u001b[38;5;124mDame el numero de unos de salida: \u001b[39m\u001b[38;5;124m\"\u001b[39m))\n\u001b[0;32m     59\u001b[0m listPruebas\u001b[38;5;241m.\u001b[39mappend((x,y))\n\u001b[0;32m     60\u001b[0m \u001b[38;5;28mprint\u001b[39m(listPruebas)\n",
      "\u001b[1;31mValueError\u001b[0m: invalid literal for int() with base 10: ''"
     ]
    }
   ],
   "source": [
    "# Simulación de una máquina de Turing para sumar 1 a un número binario\n",
    "\n",
    "# Cinta inicial con el número binario\n",
    "cinta = [0, 1, 0, 1, 0, 1, 0, 1, 1]\n",
    "print(\"Número binario actual:\", cinta)\n",
    "\n",
    "# Definición de los estados de la máquina de Turing\n",
    "estadoActual = [1, 1, 1, 1, 2, 2, 2]\n",
    "lectura = [1, 0, '_', '0', 1, 0, '_']\n",
    "escribeCaracter = [0, 1, 1, '0', 0, 1, 1]\n",
    "estadoSiguiente = [1, 1, 3, 2, 2, 2, 3]\n",
    "moverCabezal = [-1, -1, 'L', -1, -1, -1, 'L']\n",
    "\n",
    "# Función para buscar la acción a realizar según el estado y el valor leído\n",
    "def buscar(estadoA, lecturaA):\n",
    "    for i in range(len(estadoActual)):\n",
    "        if estadoA == estadoActual[i] and lecturaA == lectura[i]:\n",
    "            print(f\"Debe escribir: {escribeCaracter[i]}, Va al estado nuevo: {estadoSiguiente[i]}, Mueve el cabezal a: {moverCabezal[i]}\")\n",
    "            acciones = {\"escribir\": escribeCaracter[i], \"estado\": estadoSiguiente[i], \"cabezal\": moverCabezal[i]}\n",
    "            return acciones\n",
    "    return None\n",
    "\n",
    "# Inicialización del cabezal y estado\n",
    "cabezal = len(cinta) - 1\n",
    "estado = 1\n",
    "\n",
    "# Ejecución de la máquina de Turing\n",
    "while True:\n",
    "    if cabezal > -1:\n",
    "        print(f\"Estado actual: {estado}, Valor en cinta: {cinta[cabezal]}, Ubicación cabezal: {cabezal}\")\n",
    "        accionesLocal = buscar(estado, cinta[cabezal])\n",
    "        if accionesLocal:\n",
    "            cinta[cabezal] = accionesLocal[\"escribir\"]\n",
    "            estado = accionesLocal[\"estado\"]\n",
    "            if accionesLocal[\"cabezal\"] == 'L':\n",
    "                cabezal -= 1\n",
    "            else:\n",
    "                cabezal += accionesLocal[\"cabezal\"]\n",
    "        else:\n",
    "            print(\"No se encontraron acciones para el estado y lectura actuales.\")\n",
    "            break\n",
    "    else:\n",
    "        break\n",
    "\n",
    "print(\"Número binario después de sumar 1:\", cinta)"
   ]
  }
 ],
 "metadata": {
  "kernelspec": {
   "display_name": "Python 3 (ipykernel)",
   "language": "python",
   "name": "python3"
  },
  "language_info": {
   "codemirror_mode": {
    "name": "ipython",
    "version": 3
   },
   "file_extension": ".py",
   "mimetype": "text/x-python",
   "name": "python",
   "nbconvert_exporter": "python",
   "pygments_lexer": "ipython3",
   "version": "3.11.7"
  }
 },
 "nbformat": 4,
 "nbformat_minor": 5
}
